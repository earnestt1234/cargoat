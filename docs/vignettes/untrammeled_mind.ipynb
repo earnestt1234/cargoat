{
 "cells": [
  {
   "cell_type": "markdown",
   "id": "81ecd94d",
   "metadata": {},
   "source": [
    "# Exploring Monty Hall with cargoat\n",
    "\n",
    "This post contains some vignettes demonstrating how [cargoat](https://github.com/earnestt1234/cargoat) can be used to simulate the [Monty Hall Problem](https://en.wikipedia.org/wiki/Monty_Hall_problem).\n",
    "\n",
    "The examples used below are taken from an [Untrammeled Mind post](https://www.untrammeledmind.com/2018/11/monty-hall-problem-and-variations-intuitive-solutions/) which provides descriptions and mathematical formulations of several Monty Hall problem variations.  Because of the fantastic explanations in that existing post, these vignettes will not focus on re-deriving the same theoretical answers for these problems.  Rather, it will show that the same answers are supported empirically (while simultaneously showing how cargoat is used).  **Please read the Untrammeled Mind post for more thorough explanation and intuition.**\n",
    "\n",
    "If there are any operations from cargoat that you have more questions about, make sure to check the [API documentation](https://earnestt1234.github.io/cargoat/cargoat/)."
   ]
  },
  {
   "cell_type": "markdown",
   "id": "9e73e9b0",
   "metadata": {},
   "source": [
    "## 1. Classic Monty Hall (three doors)\n",
    "\n",
    "Here's a restatement of the classic Monty Hall problem (directly quoted from Untrammeled Mind):\n",
    "\n",
    "> You stand before three closed doors. The doors are evenly spaced and appear identical, aside from being numbered from 1 to 3. One of the doors conceals a car, while each of the other two doors conceals a goat. The host of this game, Monty Hall, asks you to select a door. If you select the car door, you get to keep the car. You select Door 1, hoping to win the car. But wait. Hall opens Door 2 to reveal a goat. Hall, who knows where the car is, always reveals a goat. (Also assume that, when a contestant chooses the car door, Hall chooses which of the two goat doors to open with equal probability.) You chose Door 1, but are now given the option to switch your guess to Door 3. What’s the probability of winning if you switch?\n",
    "\n",
    "After Monty reveals a goat-containing door, is it better to switch to the remaining door or keep your original one?  This is the key question.  Again, here we will not work up an intuition for the answer to this question - rather, we are going to simulate the above scenario many times and see which behavior (switching doors or not) results in more wins (selecting the door with the car in it).\n",
    "\n",
    "Let's start by importing cargoat."
   ]
  },
  {
   "cell_type": "code",
   "execution_count": 1,
   "id": "cd31eaf1",
   "metadata": {},
   "outputs": [],
   "source": [
    "import cargoat as cg"
   ]
  },
  {
   "cell_type": "markdown",
   "id": "88a22856",
   "metadata": {},
   "source": [
    "We will use this first, classic problem variation to spend a little more time learning how to use cargoat.  The basic setup for any game is as follows:\n",
    "\n",
    "1. Create a list of game actions to perform.\n",
    "2. Pass those to actions to `cargoat.play()` to simulate the game any number of times.\n",
    "\n",
    "\"Actions\" are classes from the [`cargoat.actions`](https://earnestt1234.github.io/cargoat/cargoat/actions/index.html) subpackage.  They encode various typical things that are done in Monty Hall problem scenarios - placing cars and goats, picking doors, revealing doors, etc.\n",
    "\n",
    "The first thing we need to do is tell cargoat how many doors, cars, and goats we want in our game.  In the classic setup, there are **2 goats** and **1 car**.  [There are a few actions which set up the doors](https://earnestt1234.github.io/cargoat/cargoat/actions/initialization.html) - here, we will use [`InitDoorsRandom()`](https://earnestt1234.github.io/cargoat/cargoat/actions/initialization.html#cargoat.actions.initialization.InitDoorsRandom), which randomly places a specified number of goats and cars.\n",
    "\n",
    "Let's see just what initilization accomplishes.  We will simulate a game with just initilization for a small number of trials (5).  And for the purpose of this documentation, we will set a random seed so that we get the same results each time:"
   ]
  },
  {
   "cell_type": "code",
   "execution_count": 2,
   "id": "91ab1994",
   "metadata": {},
   "outputs": [],
   "source": [
    "seed = 3\n",
    "game = [cg.InitDoorsRandom(cars=1, goats=2)]\n",
    "\n",
    "sim = cg.play(game, n=5, seed=seed)"
   ]
  },
  {
   "cell_type": "markdown",
   "id": "6f3f0f66",
   "metadata": {},
   "source": [
    "The `sim` returned in the last line is a [object which keeps track of the simulation we just ran](https://earnestt1234.github.io/cargoat/cargoat/sim.html#cargoat.sim.MontyHallSim).  It is several methods & attributes for keeping track of the game.  The most important ones are `sim.cars`, `sim.picked`, and `sim.revealed`.  These are binary arrays which keep track of the game state over repeated trials.  The `show()` method will give a snapshot of their contents:"
   ]
  },
  {
   "cell_type": "code",
   "execution_count": 3,
   "id": "61e2f6a8",
   "metadata": {},
   "outputs": [
    {
     "name": "stdout",
     "output_type": "stream",
     "text": [
      "Trials: 0-4\n",
      "\n",
      "Cars:\n",
      "[[0 0 1]\n",
      " [1 0 0]\n",
      " [0 1 0]\n",
      " [1 0 0]\n",
      " [1 0 0]]\n",
      "\n",
      "Revealed:\n",
      "[[0 0 0]\n",
      " [0 0 0]\n",
      " [0 0 0]\n",
      " [0 0 0]\n",
      " [0 0 0]]\n",
      "\n",
      "Picked:\n",
      "[[0 0 0]\n",
      " [0 0 0]\n",
      " [0 0 0]\n",
      " [0 0 0]\n",
      " [0 0 0]]\n"
     ]
    }
   ],
   "source": [
    "sim.show()"
   ]
  },
  {
   "cell_type": "markdown",
   "id": "9aecd0ff",
   "metadata": {},
   "source": [
    "Each of these arrays has 5 rows and 3 columns; the **number of rows correspond to the number of trials** being simulated (which we specified with `cg.play(game, n=5)`), while the **columns specifies the number of doors** in each simulation (2 goats + 1 car = 3 doors).\n",
    "\n",
    "Looking at the \"cars\" array, we can see that initilization has started the game as we intended; each trial (row) has one car, as indicated by a single `1`.  \n",
    "\n",
    "The \"revealed\" and \"picked\" arrays, on the other hand, only contain zeros.  These arrays keep track of which door(s) have been opened by Monty and which door(s) the player has selected.  We haven't added any actions that pick or open doors - let's do that now!  The next step of the game is for the player to choose a single door, which we can accomplish with the `Pick()` action:\n",
    "\n"
   ]
  },
  {
   "cell_type": "code",
   "execution_count": 4,
   "id": "df97c28e",
   "metadata": {},
   "outputs": [
    {
     "name": "stdout",
     "output_type": "stream",
     "text": [
      "Trials: 0-4\n",
      "\n",
      "Cars:\n",
      "[[0 0 1]\n",
      " [1 0 0]\n",
      " [0 1 0]\n",
      " [1 0 0]\n",
      " [1 0 0]]\n",
      "\n",
      "Revealed:\n",
      "[[0 0 0]\n",
      " [0 0 0]\n",
      " [0 0 0]\n",
      " [0 0 0]\n",
      " [0 0 0]]\n",
      "\n",
      "Picked:\n",
      "[[0 0 1]\n",
      " [0 1 0]\n",
      " [0 0 1]\n",
      " [0 0 1]\n",
      " [1 0 0]]\n"
     ]
    }
   ],
   "source": [
    "game = [cg.InitDoorsRandom(cars=1, goats=2),\n",
    "        cg.Pick()]\n",
    "\n",
    "sim = cg.play(game, n=5, seed=seed)\n",
    "sim.show()"
   ]
  },
  {
   "cell_type": "markdown",
   "id": "fada2e49",
   "metadata": {},
   "source": [
    "Now we see that one door has been picked per row, as well.  The default behavior of `Pick()` is to select a single door per trial - there are arguments which can alter the picking behavior which will be explored below.  Additionally, the door is picked *randomly*.  This is a small difference from the scenario described above, where the user always picks door #1.  Statistically, the two situations are equivalent, since the cars are also placed randomly.  To instead pick a specific door, you could have the second action as `cg.Pick(doors=[0])` (for the door at index 0).\n",
    "\n",
    "We now need to add Monty revealing a door.  `Reveal()` is very similar to `Pick()`, but operates on the \"revealed\" array:"
   ]
  },
  {
   "cell_type": "code",
   "execution_count": 5,
   "id": "6d6b660a",
   "metadata": {},
   "outputs": [
    {
     "name": "stdout",
     "output_type": "stream",
     "text": [
      "Trials: 0-4\n",
      "\n",
      "Cars:\n",
      "[[0 0 1]\n",
      " [1 0 0]\n",
      " [0 1 0]\n",
      " [1 0 0]\n",
      " [1 0 0]]\n",
      "\n",
      "Revealed:\n",
      "[[0 1 0]\n",
      " [0 0 1]\n",
      " [1 0 0]\n",
      " [0 1 0]\n",
      " [0 0 1]]\n",
      "\n",
      "Picked:\n",
      "[[0 0 1]\n",
      " [0 1 0]\n",
      " [0 0 1]\n",
      " [0 0 1]\n",
      " [1 0 0]]\n"
     ]
    }
   ],
   "source": [
    "game = [cg.InitDoorsRandom(cars=1, goats=2),\n",
    "        cg.Pick(),\n",
    "        cg.Reveal()]\n",
    "\n",
    "sim = cg.play(game, n=5, seed=seed)\n",
    "sim.show()"
   ]
  },
  {
   "cell_type": "markdown",
   "id": "c1c6061f",
   "metadata": {},
   "source": [
    "One door is revealed per row by default.  Furthermore, *none of the picked doors or doors containing cars have been revealed* - by default, actions in cargoat will try to keep such doors closed and throw an error if there is a problem doing so (more on this below).  Within these constraints, the doors are selected randomly.\n",
    "\n",
    "Now the interesting part: it is time to decide to either switch or stay.  To assess which is better, we can run each choice in a separate simulation.  Cargoat has convenience classes `Switch()` and `Stay()` for modeling these actions, though note that switching is equivalent to calling `Pick()` again, and doing nothing would be equivalent to `Stay()`!"
   ]
  },
  {
   "cell_type": "code",
   "execution_count": 6,
   "id": "0a156bb5",
   "metadata": {},
   "outputs": [
    {
     "name": "stdout",
     "output_type": "stream",
     "text": [
      "Trials: 0-4\n",
      "\n",
      "Cars:\n",
      "[[0 0 1]\n",
      " [1 0 0]\n",
      " [0 1 0]\n",
      " [1 0 0]\n",
      " [1 0 0]]\n",
      "\n",
      "Revealed:\n",
      "[[0 1 0]\n",
      " [0 0 1]\n",
      " [1 0 0]\n",
      " [0 1 0]\n",
      " [0 0 1]]\n",
      "\n",
      "Picked:\n",
      "[[1 0 0]\n",
      " [1 0 0]\n",
      " [0 1 0]\n",
      " [1 0 0]\n",
      " [0 1 0]]\n"
     ]
    }
   ],
   "source": [
    "game = [cg.InitDoorsRandom(cars=1, goats=2),\n",
    "        cg.Pick(),\n",
    "        cg.Reveal(),\n",
    "        cg.Switch()]\n",
    "\n",
    "sim = cg.play(game, n=5, seed=seed)\n",
    "sim.show()"
   ]
  },
  {
   "cell_type": "markdown",
   "id": "1658435c",
   "metadata": {},
   "source": [
    "In every trial, the picked door has changed (car and revealed doors have remained the same).\n",
    "\n",
    "At this point, we have completed the steps of the Monty Hall scenario: player picks door, Monty reveals door, player switches door.  Now the game ends and we see if the player wins - i.e., has the player selected the door with the car.  If we add the `ShowResults()` action at the end, some statistics will be printed out based on the simulation state after all the previous actions:"
   ]
  },
  {
   "cell_type": "code",
   "execution_count": 7,
   "id": "054a9461",
   "metadata": {},
   "outputs": [
    {
     "name": "stdout",
     "output_type": "stream",
     "text": [
      "{'trials': 5,\n",
      " 'wins': 3,\n",
      " 'losses': 2,\n",
      " 'percent_wins': 60.0,\n",
      " 'percent_losses': 40.0,\n",
      " 'spoiled_games': False}\n"
     ]
    }
   ],
   "source": [
    "game = [cg.InitDoorsRandom(cars=1, goats=2),\n",
    "        cg.Pick(),\n",
    "        cg.Reveal(),\n",
    "        cg.Switch(),\n",
    "        cg.ShowResults()]\n",
    "\n",
    "sim = cg.play(game, n=5, seed=seed)"
   ]
  },
  {
   "cell_type": "markdown",
   "id": "84b5f27c",
   "metadata": {},
   "source": [
    "When switching, the expected win rate is $2/3$ (again, see Untrammeled Mind!).  Is `60.0` percent that close two 2 out of 3?  It's hard to say.  With other random seeds, we would likely observed all possible win rates for 5 trials (0, 20, 40, 60, 80, and 100 percent).\n",
    "\n",
    "However, its easy to make our results more convincing - just simulate more trials!  Let's up the number by a factor of 1000:"
   ]
  },
  {
   "cell_type": "code",
   "execution_count": 8,
   "id": "21da0d54",
   "metadata": {},
   "outputs": [
    {
     "name": "stdout",
     "output_type": "stream",
     "text": [
      "{'trials': 5000,\n",
      " 'wins': 3336,\n",
      " 'losses': 1664,\n",
      " 'percent_wins': 66.72,\n",
      " 'percent_losses': 33.28,\n",
      " 'spoiled_games': False}\n"
     ]
    }
   ],
   "source": [
    "game = [cg.InitDoorsRandom(cars=1, goats=2),\n",
    "        cg.Pick(),\n",
    "        cg.Reveal(),\n",
    "        cg.Switch(),\n",
    "        cg.ShowResults()]\n",
    "\n",
    "sim = cg.play(game, n=5000, seed=seed)"
   ]
  },
  {
   "cell_type": "markdown",
   "id": "40b3e480",
   "metadata": {},
   "source": [
    "That is pretty close to $2/3$!  We can also show that not switching doors has rate much closer to $1/3$ (even when using a different seed):"
   ]
  },
  {
   "cell_type": "code",
   "execution_count": 9,
   "id": "2301a337",
   "metadata": {
    "scrolled": false
   },
   "outputs": [
    {
     "name": "stdout",
     "output_type": "stream",
     "text": [
      "{'trials': 5000,\n",
      " 'wins': 1710,\n",
      " 'losses': 3290,\n",
      " 'percent_wins': 34.2,\n",
      " 'percent_losses': 65.8,\n",
      " 'spoiled_games': False}\n"
     ]
    }
   ],
   "source": [
    "game = [cg.InitDoorsRandom(cars=1, goats=2),\n",
    "        cg.Pick(),\n",
    "        cg.Reveal(),\n",
    "        cg.Stay(),       # change here\n",
    "        cg.ShowResults()]\n",
    "\n",
    "sim = cg.play(game, n=5000, seed=seed+1)"
   ]
  },
  {
   "cell_type": "markdown",
   "id": "b0f89b40",
   "metadata": {},
   "source": [
    "That gets us through the basic Monty Hall problem!  The simulation supports the (often unintuitive) notion that it is much better to switch doors than than stay with the one you first picked.  "
   ]
  },
  {
   "cell_type": "markdown",
   "id": "f9aaa98f",
   "metadata": {},
   "source": [
    "## 2. Classic Monty Hall (many doors)\n",
    "\n",
    "What if instead of 3 doors, there are 10? 100?  One million?  There is still only one car.  You pick a door, and Monty Hall reveals all other doors except for one.  In this case, it is *still better to switch doors*, and it gets better and better the more doors there are.  With more doors, it is more and more unlikely that you picked the door correctly on your first choice!\n",
    "\n",
    "It is syntactically easy to simulate this change in cargoat - we just need to update `InitDoorsRandom()` to add more goats and `Reveal()` to reveal more.  `Reveal()` takes a `doors` argument - and if we pass an integer, we can select the number of doors to open.\n",
    "\n",
    "Practically however, operations on many doors are more computationally costly than operations over many trials.  Testing one million doors would take several minutes to run.  But still, even with 100 total doors, we can see that switching will enable you to win about 99% of the time:"
   ]
  },
  {
   "cell_type": "code",
   "execution_count": 10,
   "id": "652aaa88",
   "metadata": {},
   "outputs": [
    {
     "name": "stdout",
     "output_type": "stream",
     "text": [
      "{'trials': 5000,\n",
      " 'wins': 4948,\n",
      " 'losses': 52,\n",
      " 'percent_wins': 98.96000000000001,\n",
      " 'percent_losses': 1.04,\n",
      " 'spoiled_games': False}\n"
     ]
    }
   ],
   "source": [
    "cars = 1\n",
    "goats = 99\n",
    "\n",
    "game = [cg.InitDoorsRandom(cars=cars, goats=goats),\n",
    "        cg.Pick(),\n",
    "        cg.Reveal(doors=goats-1),\n",
    "        cg.Switch(),\n",
    "        cg.ShowResults()]\n",
    "\n",
    "sim = cg.play(game, n=5000, seed=seed)"
   ]
  },
  {
   "cell_type": "markdown",
   "id": "262b3f30",
   "metadata": {},
   "source": [
    "With $d$ doors, you should only expect to lose $1/d$ times on average.  The following plot shows this for some smaller powers of two:"
   ]
  },
  {
   "cell_type": "code",
   "execution_count": 11,
   "id": "e7b9fca3",
   "metadata": {},
   "outputs": [
    {
     "data": {
      "text/plain": [
       "<matplotlib.legend.Legend at 0x107b5a890>"
      ]
     },
     "execution_count": 11,
     "metadata": {},
     "output_type": "execute_result"
    },
    {
     "data": {
      "image/png": "[encoded data removed]",
      "text/plain": [
       "<Figure size 640x480 with 1 Axes>"
      ]
     },
     "metadata": {},
     "output_type": "display_data"
    }
   ],
   "source": [
    "total_doors = [4, 8, 16, 32, 64, 128, 256, 512]\n",
    "expected_wins = [(1 - (1/d))*100 for d in total_doors]\n",
    "trials = 5000\n",
    "\n",
    "wins = []\n",
    "for d in total_doors:\n",
    "    goats = d - 1\n",
    "    game = [cg.InitDoorsRandom(cars=1, goats=goats),\n",
    "            cg.Pick(),\n",
    "            cg.Reveal(doors=goats-1),\n",
    "            cg.Switch()]\n",
    "    sim = cg.play(game, n=trials, seed=d)\n",
    "    \n",
    "    # the get_results() method allows us to save the dictionary of results\n",
    "    results = sim.get_results()\n",
    "    wins.append(results['percent_wins'])\n",
    "    \n",
    "import matplotlib.pyplot as plt\n",
    "\n",
    "plt.scatter(total_doors, wins, label='simulated')\n",
    "plt.plot(total_doors, expected_wins, color='orange', label='expected')\n",
    "plt.ylabel('Wins (%)')\n",
    "plt.xlabel('d')\n",
    "plt.legend()"
   ]
  },
  {
   "cell_type": "markdown",
   "id": "3580008a",
   "metadata": {},
   "source": [
    "## 3. Forgetful Monty Hall (three doors)\n",
    "\n",
    "AKA, \"Monty Fall\". Here, Monty *doesn't know* which doors have cars or goats.  After the player picks, Monty still reveals a door, picking from the remaining ones *at random*.  He only sees two doors to pick (the currently picked door is omitted), and basically flips a coin to choose between them.\n",
    "\n",
    "How do we simulate this with cargoat?  We must revisit the `Reveal()` action.  If we look at [its documentation](https://earnestt1234.github.io/cargoat/cargoat/#cargoat.Reveal), there are three `exclude_...` arguments which mark some doors as being off limits for being revealed.  By editing these options, we can simulate what information Monty Hall has, and which doors he randomly picks from.  `exclude_current` prevents any currently revealed doors from being selected again; since Monty only reveals doors once in this game variant, this action is not relevant.  `exclude_picked` prevents doors the player has selected from being revealed, and we still want this to be the case.  But `exclude_cars` needs to change; Monty doesn't know where the cars are, so he should not use that information for deciding which doors to reveal.\n",
    "\n",
    "Let's try simulating the game with `exclude_cars=False`:"
   ]
  },
  {
   "cell_type": "code",
   "execution_count": 12,
   "id": "1abe06b1",
   "metadata": {
    "tags": [
     "raises-exception"
    ]
   },
   "outputs": [
    {
     "ename": "MontyHallError",
     "evalue": "Error for step 2: <cargoat.actions.reveal.Reveal object at 0x107a718d0>",
     "output_type": "error",
     "traceback": [
      "\u001b[0;31m---------------------------------------------------------------------------\u001b[0m",
      "\u001b[0;31mBadReveal\u001b[0m                                 Traceback (most recent call last)",
      "File \u001b[0;32m~/Documents/GitHub/cargoat/cargoat/core.py:42\u001b[0m, in \u001b[0;36mplay\u001b[0;34m(game, n, seed)\u001b[0m\n\u001b[1;32m     41\u001b[0m \u001b[38;5;28;01mtry\u001b[39;00m:\n\u001b[0;32m---> 42\u001b[0m     \u001b[43maction\u001b[49m\u001b[43m(\u001b[49m\u001b[43msim\u001b[49m\u001b[43m)\u001b[49m\n\u001b[1;32m     43\u001b[0m \u001b[38;5;28;01mexcept\u001b[39;00m \u001b[38;5;167;01mException\u001b[39;00m \u001b[38;5;28;01mas\u001b[39;00m error:\n",
      "File \u001b[0;32m~/Documents/GitHub/cargoat/cargoat/actions/generic.py:151\u001b[0m, in \u001b[0;36mGenericAction.__call__\u001b[0;34m(self, sim)\u001b[0m\n\u001b[1;32m    147\u001b[0m     \u001b[38;5;28;01mraise\u001b[39;00m \u001b[38;5;167;01mValueError\u001b[39;00m(\u001b[38;5;124m'\u001b[39m\u001b[38;5;124mCannot interpret `doors` as an integer, \u001b[39m\u001b[38;5;124m'\u001b[39m\n\u001b[1;32m    148\u001b[0m                      \u001b[38;5;124m'\u001b[39m\u001b[38;5;124mchoice array, or weighted choice array. \u001b[39m\u001b[38;5;124m'\u001b[39m\n\u001b[1;32m    149\u001b[0m                      \u001b[38;5;124m'\u001b[39m\u001b[38;5;124mPlease see documentation.\u001b[39m\u001b[38;5;124m'\u001b[39m)\n\u001b[0;32m--> 151\u001b[0m \u001b[43msim\u001b[49m\u001b[38;5;241;43m.\u001b[39;49m\u001b[43m_set_array\u001b[49m\u001b[43m(\u001b[49m\u001b[43mtarget\u001b[49m\u001b[38;5;241;43m=\u001b[39;49m\u001b[38;5;28;43mself\u001b[39;49m\u001b[38;5;241;43m.\u001b[39;49m\u001b[43mtarget\u001b[49m\u001b[43m,\u001b[49m\n\u001b[1;32m    152\u001b[0m \u001b[43m               \u001b[49m\u001b[43mnew_array\u001b[49m\u001b[38;5;241;43m=\u001b[39;49m\u001b[43mnew_array\u001b[49m\u001b[43m,\u001b[49m\n\u001b[1;32m    153\u001b[0m \u001b[43m               \u001b[49m\u001b[43mbehavior\u001b[49m\u001b[38;5;241;43m=\u001b[39;49m\u001b[38;5;28;43mself\u001b[39;49m\u001b[38;5;241;43m.\u001b[39;49m\u001b[43mbehavior\u001b[49m\u001b[43m,\u001b[49m\n\u001b[1;32m    154\u001b[0m \u001b[43m               \u001b[49m\u001b[43mn_per_row\u001b[49m\u001b[38;5;241;43m=\u001b[39;49m\u001b[43mn\u001b[49m\u001b[43m,\u001b[49m\n\u001b[1;32m    155\u001b[0m \u001b[43m               \u001b[49m\u001b[43mallow_spoiled\u001b[49m\u001b[38;5;241;43m=\u001b[39;49m\u001b[38;5;28;43mself\u001b[39;49m\u001b[38;5;241;43m.\u001b[39;49m\u001b[43mallow_spoiled\u001b[49m\u001b[43m,\u001b[49m\n\u001b[1;32m    156\u001b[0m \u001b[43m               \u001b[49m\u001b[43mallow_redundant\u001b[49m\u001b[38;5;241;43m=\u001b[39;49m\u001b[38;5;28;43mself\u001b[39;49m\u001b[38;5;241;43m.\u001b[39;49m\u001b[43mallow_redundant\u001b[49m\u001b[43m)\u001b[49m\n\u001b[1;32m    158\u001b[0m \u001b[38;5;28;01mreturn\u001b[39;00m sim\n",
      "File \u001b[0;32m~/Documents/GitHub/cargoat/cargoat/sim.py:544\u001b[0m, in \u001b[0;36mMontyHallSim._set_array\u001b[0;34m(self, target, new_array, behavior, n_per_row, allow_spoiled, allow_redundant)\u001b[0m\n\u001b[1;32m    543\u001b[0m \u001b[38;5;66;03m# then check for valid action\u001b[39;00m\n\u001b[0;32m--> 544\u001b[0m kosher \u001b[38;5;241m=\u001b[39m \u001b[43mcheck_spoiling\u001b[49m\u001b[43m(\u001b[49m\u001b[43mnew_array\u001b[49m\u001b[43m,\u001b[49m\u001b[43m \u001b[49m\u001b[43mbehavior\u001b[49m\u001b[38;5;241;43m=\u001b[39;49m\u001b[43mbehavior\u001b[49m\u001b[43m,\u001b[49m\u001b[43m \u001b[49m\u001b[43mallow_spoiled\u001b[49m\u001b[38;5;241;43m=\u001b[39;49m\u001b[43mallow_spoiled\u001b[49m\u001b[43m)\u001b[49m\n\u001b[1;32m    546\u001b[0m \u001b[38;5;66;03m# mark spoiled games (only based on invalid picks)\u001b[39;00m\n",
      "File \u001b[0;32m~/Documents/GitHub/cargoat/cargoat/sim.py:600\u001b[0m, in \u001b[0;36mMontyHallSim._check_spoiling_reveals\u001b[0;34m(self, reveals, behavior, allow_spoiled)\u001b[0m\n\u001b[1;32m    598\u001b[0m     msg \u001b[38;5;241m=\u001b[39m (\u001b[38;5;124m\"\u001b[39m\u001b[38;5;124mCars or picked doors were revealed, e.g. \u001b[39m\u001b[38;5;124m\"\u001b[39m\n\u001b[1;32m    599\u001b[0m            \u001b[38;5;124mf\u001b[39m\u001b[38;5;124m\"\u001b[39m\u001b[38;5;124mtrial \u001b[39m\u001b[38;5;132;01m{\u001b[39;00mtrial\u001b[38;5;132;01m}\u001b[39;00m\u001b[38;5;124m door \u001b[39m\u001b[38;5;132;01m{\u001b[39;00mdoor\u001b[38;5;132;01m}\u001b[39;00m\u001b[38;5;124m.\u001b[39m\u001b[38;5;124m\"\u001b[39m)\n\u001b[0;32m--> 600\u001b[0m     \u001b[43mbad_trials_raise\u001b[49m\u001b[43m(\u001b[49m\u001b[43minvalid_rows\u001b[49m\u001b[43m,\u001b[49m\u001b[43m \u001b[49m\u001b[43mmsg\u001b[49m\u001b[43m,\u001b[49m\u001b[43m \u001b[49m\u001b[43mBadReveal\u001b[49m\u001b[43m)\u001b[49m\n\u001b[1;32m    602\u001b[0m \u001b[38;5;28;01mreturn\u001b[39;00m valid\n",
      "File \u001b[0;32m~/Documents/GitHub/cargoat/cargoat/errors.py:32\u001b[0m, in \u001b[0;36mbad_trials_raise\u001b[0;34m(badrows, msg, errortype)\u001b[0m\n\u001b[1;32m     31\u001b[0m n \u001b[38;5;241m=\u001b[39m \u001b[38;5;28mlen\u001b[39m(idx)\n\u001b[0;32m---> 32\u001b[0m \u001b[38;5;28;01mraise\u001b[39;00m errortype(\u001b[38;5;124mf\u001b[39m\u001b[38;5;124m\"\u001b[39m\u001b[38;5;132;01m{\u001b[39;00mmsg\u001b[38;5;132;01m}\u001b[39;00m\u001b[38;5;124m Found for \u001b[39m\u001b[38;5;132;01m{\u001b[39;00mn\u001b[38;5;132;01m}\u001b[39;00m\u001b[38;5;124m trial(s):\u001b[39m\u001b[38;5;130;01m\\n\u001b[39;00m\u001b[38;5;132;01m{\u001b[39;00midx\u001b[38;5;132;01m}\u001b[39;00m\u001b[38;5;124m\"\u001b[39m)\n",
      "\u001b[0;31mBadReveal\u001b[0m: Cars or picked doors were revealed, e.g. trial 7 door 1. Found for 1699 trial(s):\n[   7    9   12 ... 4981 4989 4991]",
      "\nThe above exception was the direct cause of the following exception:\n",
      "\u001b[0;31mMontyHallError\u001b[0m                            Traceback (most recent call last)",
      "Cell \u001b[0;32mIn[12], line 7\u001b[0m\n\u001b[1;32m      1\u001b[0m game \u001b[38;5;241m=\u001b[39m [cg\u001b[38;5;241m.\u001b[39mInitDoorsRandom(cars\u001b[38;5;241m=\u001b[39m\u001b[38;5;241m1\u001b[39m, goats\u001b[38;5;241m=\u001b[39m\u001b[38;5;241m2\u001b[39m),\n\u001b[1;32m      2\u001b[0m         cg\u001b[38;5;241m.\u001b[39mPick(),\n\u001b[1;32m      3\u001b[0m         cg\u001b[38;5;241m.\u001b[39mReveal(exclude_cars\u001b[38;5;241m=\u001b[39m\u001b[38;5;28;01mFalse\u001b[39;00m),\n\u001b[1;32m      4\u001b[0m         cg\u001b[38;5;241m.\u001b[39mSwitch(),\n\u001b[1;32m      5\u001b[0m         cg\u001b[38;5;241m.\u001b[39mShowResults()]\n\u001b[0;32m----> 7\u001b[0m sim \u001b[38;5;241m=\u001b[39m \u001b[43mcg\u001b[49m\u001b[38;5;241;43m.\u001b[39;49m\u001b[43mplay\u001b[49m\u001b[43m(\u001b[49m\u001b[43mgame\u001b[49m\u001b[43m,\u001b[49m\u001b[43m \u001b[49m\u001b[43mn\u001b[49m\u001b[38;5;241;43m=\u001b[39;49m\u001b[38;5;241;43m5000\u001b[39;49m\u001b[43m,\u001b[49m\u001b[43m \u001b[49m\u001b[43mseed\u001b[49m\u001b[38;5;241;43m=\u001b[39;49m\u001b[43mseed\u001b[49m\u001b[43m)\u001b[49m\n",
      "File \u001b[0;32m~/Documents/GitHub/cargoat/cargoat/core.py:45\u001b[0m, in \u001b[0;36mplay\u001b[0;34m(game, n, seed)\u001b[0m\n\u001b[1;32m     43\u001b[0m     \u001b[38;5;28;01mexcept\u001b[39;00m \u001b[38;5;167;01mException\u001b[39;00m \u001b[38;5;28;01mas\u001b[39;00m error:\n\u001b[1;32m     44\u001b[0m         msg \u001b[38;5;241m=\u001b[39m \u001b[38;5;124mf\u001b[39m\u001b[38;5;124m'\u001b[39m\u001b[38;5;124mError for step \u001b[39m\u001b[38;5;132;01m{\u001b[39;00mi\u001b[38;5;132;01m}\u001b[39;00m\u001b[38;5;124m: \u001b[39m\u001b[38;5;132;01m{\u001b[39;00m\u001b[38;5;28mrepr\u001b[39m(action)\u001b[38;5;132;01m}\u001b[39;00m\u001b[38;5;124m'\u001b[39m\n\u001b[0;32m---> 45\u001b[0m         \u001b[38;5;28;01mraise\u001b[39;00m MontyHallError(msg) \u001b[38;5;28;01mfrom\u001b[39;00m \u001b[38;5;21;01merror\u001b[39;00m\n\u001b[1;32m     47\u001b[0m \u001b[38;5;28;01mreturn\u001b[39;00m sim\n",
      "\u001b[0;31mMontyHallError\u001b[0m: Error for step 2: <cargoat.actions.reveal.Reveal object at 0x107a718d0>"
     ]
    }
   ],
   "source": [
    "game = [cg.InitDoorsRandom(cars=1, goats=2),\n",
    "        cg.Pick(),\n",
    "        cg.Reveal(exclude_cars=False),\n",
    "        cg.Switch(),\n",
    "        cg.ShowResults()]\n",
    "\n",
    "sim = cg.play(game, n=5000, seed=seed)"
   ]
  },
  {
   "cell_type": "markdown",
   "id": "81cc693a",
   "metadata": {},
   "source": [
    "**Oh no!!! It's a big nasty error!**\n",
    "\n",
    "What happened?  The final error tells us that there was a problem with the reveal step:\n",
    "\n",
    "> `MontyHallError: Error for step 2: <cargoat.actions.reveal.Reveal object at 0x127c4b750>`\n",
    "\n",
    "While the top error indicates what the real problem is:\n",
    "\n",
    "> `BadReveal: Cars or picked doors were revealed, e.g. trial 7 door 1. Found for 1699 trial(s):\n",
    "[   7    9   12 ... 4981 4989 4991]`\n",
    "\n",
    "There were several trials were a door with a car was revealed.  This is expected, since we added `exlcude_cars=False` to simulate Monty not knowing where the cars are.  Cargoat has thrown an error because the traditional game rules have been violated.  And if Monty truly didn't know where the car is, this should be expected to happen at least some of the time.  In the typical description of this game variant, you are assumed to be on a trial where this violation happened to not take place.  As Untrammeled Mind puts it:\n",
    "\n",
    "> just as Hall reveals the goat, he says, “Phew, that’s lucky. I’d forgotten where the car was, so I just hoped for the best opened a door at random.”\n",
    "\n",
    "We are not simulating this situation once, but many many times.  To get around these potential rule violations, cargoat allows us to keep simulating even when some games are spoiled.  To do so, we must also specify `allow_spoiled=True` in `Reveal()`.  Each simulation has a `spoiled` array which keeps track of which games have been spoiled."
   ]
  },
  {
   "cell_type": "code",
   "execution_count": 13,
   "id": "fe56deb6",
   "metadata": {},
   "outputs": [
    {
     "name": "stdout",
     "output_type": "stream",
     "text": [
      "[False False False ... False False False]\n",
      "1699\n"
     ]
    }
   ],
   "source": [
    "game = [cg.InitDoorsRandom(cars=1, goats=2),\n",
    "        cg.Pick(),\n",
    "        cg.Reveal(exclude_cars=False, allow_spoiled=True),\n",
    "        cg.Switch()]\n",
    "\n",
    "sim = cg.play(game, n=5000, seed=seed)\n",
    "\n",
    "print(sim.spoiled)\n",
    "print(sim.spoiled.sum())"
   ]
  },
  {
   "cell_type": "markdown",
   "id": "aa6a963a",
   "metadata": {},
   "source": [
    "Now we can look at the results, as before:"
   ]
  },
  {
   "cell_type": "code",
   "execution_count": 14,
   "id": "6d08193e",
   "metadata": {},
   "outputs": [
    {
     "name": "stdout",
     "output_type": "stream",
     "text": [
      "{'trials': 5000,\n",
      " 'wins': 1637,\n",
      " 'losses': 3363,\n",
      " 'percent_wins': 32.74,\n",
      " 'percent_losses': 67.25999999999999,\n",
      " 'spoiled_games': True}\n"
     ]
    }
   ],
   "source": [
    "game = [cg.InitDoorsRandom(cars=1, goats=2),\n",
    "        cg.Pick(),\n",
    "        cg.Reveal(exclude_cars=False, allow_spoiled=True),\n",
    "        cg.Switch(),\n",
    "        cg.ShowResults()]\n",
    "\n",
    "sim = cg.play(game, n=5000, seed=seed)"
   ]
  },
  {
   "cell_type": "markdown",
   "id": "6fb01fee",
   "metadata": {},
   "source": [
    "While we have results, they don't match the expected value of $1/2$.  This is because the results are showing the wins for all trials, regardless of if the game was spoiled or not (see the `'spoiled_games'` entry).  We need to also update `ShowResults()` to indicate we only want to count the trials where the game *was not* spoiled.  This models the long-run average results of games where forgetful Monty reveals a door that happens to not contain a car.  `ShowResults()` has a `spoiled_games` argument which allows us to specify how we deal with spoiled games:"
   ]
  },
  {
   "cell_type": "code",
   "execution_count": 15,
   "id": "dadcb6a2",
   "metadata": {
    "scrolled": true
   },
   "outputs": [
    {
     "name": "stdout",
     "output_type": "stream",
     "text": [
      "{'trials': 3301,\n",
      " 'wins': 1637,\n",
      " 'losses': 1664,\n",
      " 'percent_wins': 49.591033020296884,\n",
      " 'percent_losses': 50.408966979703116,\n",
      " 'spoiled_games': False}\n"
     ]
    }
   ],
   "source": [
    "game = [cg.InitDoorsRandom(cars=1, goats=2),\n",
    "        cg.Pick(),\n",
    "        cg.Reveal(exclude_cars=False, allow_spoiled=True),\n",
    "        cg.Switch(),\n",
    "        cg.ShowResults(spoiled_games='omit')]\n",
    "\n",
    "sim = cg.play(game, n=5000, seed=seed)"
   ]
  },
  {
   "cell_type": "markdown",
   "id": "f22fb06f",
   "metadata": {},
   "source": [
    "And we get the expected result."
   ]
  },
  {
   "cell_type": "markdown",
   "id": "8146e2f0",
   "metadata": {},
   "source": [
    "## 4. Forgetful Monty Hall (many doors)\n",
    "\n",
    "This is scenario is very similar to the many door extension of the original problem.  Again, we will not go all the way to one million doors and stay in the hundreds:"
   ]
  },
  {
   "cell_type": "code",
   "execution_count": 16,
   "id": "fcfb28d1",
   "metadata": {},
   "outputs": [
    {
     "name": "stdout",
     "output_type": "stream",
     "text": [
      "{'trials': 103,\n",
      " 'wins': 51,\n",
      " 'losses': 52,\n",
      " 'percent_wins': 49.51456310679612,\n",
      " 'percent_losses': 50.48543689320388,\n",
      " 'spoiled_games': False}\n"
     ]
    }
   ],
   "source": [
    "total_doors = 100\n",
    "cars = 1\n",
    "goats = total_doors - cars\n",
    "\n",
    "game = [cg.InitDoorsRandom(cars=cars, goats=goats),\n",
    "        cg.Pick(),\n",
    "        cg.Reveal(doors=goats - 1, exclude_cars=False, allow_spoiled=True),\n",
    "        cg.Switch(),\n",
    "        cg.ShowResults(spoiled_games='omit')]\n",
    "\n",
    "sim = cg.play(game, n=5000, seed=seed)"
   ]
  },
  {
   "cell_type": "markdown",
   "id": "bb06c8ce",
   "metadata": {},
   "source": [
    "We still see the expected win rate of $1/2$ when just looking at unspoiled games.  Remember, we assume to be modeling an instance where Monty, not knowing where the car is, has successfully opened 98 doors without revealing the car.  Given you find yourself in this situation, the choice to switch or stay does not matter.  A key point, though, is that that finding yourself in that situation is, in a sense, very unlikely!  Out of 5,000 trials, only about one hundred were unspoiled.  By looking at the number of successful trials, we can see that as the number of doors increases, it gets more and more unlikely for forgetful Monty to reveal only goats by chance:"
   ]
  },
  {
   "cell_type": "code",
   "execution_count": 17,
   "id": "2dd7c200",
   "metadata": {},
   "outputs": [
    {
     "name": "stdout",
     "output_type": "stream",
     "text": [
      "{'trials': 302,\n",
      " 'wins': 158,\n",
      " 'losses': 144,\n",
      " 'percent_wins': 52.317880794701985,\n",
      " 'percent_losses': 47.682119205298015,\n",
      " 'spoiled_games': False}\n",
      "{'trials': 169,\n",
      " 'wins': 90,\n",
      " 'losses': 79,\n",
      " 'percent_wins': 53.25443786982249,\n",
      " 'percent_losses': 46.74556213017752,\n",
      " 'spoiled_games': False}\n",
      "{'trials': 102,\n",
      " 'wins': 47,\n",
      " 'losses': 55,\n",
      " 'percent_wins': 46.07843137254902,\n",
      " 'percent_losses': 53.92156862745098,\n",
      " 'spoiled_games': False}\n"
     ]
    }
   ],
   "source": [
    "def forgetful_monty_hall(total_doors):\n",
    "    cars = 1\n",
    "    goats = total_doors - cars\n",
    "\n",
    "    game = [cg.InitDoorsRandom(cars=cars, goats=goats),\n",
    "            cg.Pick(),\n",
    "            cg.Reveal(doors=goats - 1, exclude_cars=False, allow_spoiled=True),\n",
    "            cg.Switch(),\n",
    "            cg.ShowResults(spoiled_games='omit')]\n",
    "\n",
    "    sim = cg.play(game, n=15000, seed=seed)\n",
    "    \n",
    "forgetful_monty_hall(100)\n",
    "forgetful_monty_hall(200)\n",
    "forgetful_monty_hall(300)"
   ]
  },
  {
   "cell_type": "markdown",
   "id": "b4a23bbf",
   "metadata": {},
   "source": [
    "## 5. Lazy Monty Hall (three doors)\n",
    "\n",
    "This is an interesting one.  Again assume there are three doors with one car and two goats, placed randomly.  You pick door 1.  Monty reveals a door containing a goat.  If Monty Hall doesn't have a choice of door to open (i.e., the goat is not behind door 1), he will reveal the only goat he can.  However, if Monty has a choice between opening door 2 and 3 (i.e., you the car is behind door 1), he will open door 2 with a probability of $3/4$, otherwise opening door 3.\n",
    "\n",
    "Now, you see Monty Hall open door 2 - should you switch to door 3 or remain with door 1?\n",
    "\n",
    "Untrammeled Mind arrives at the conclusion that switching here wins with probability $4/7$, an decrease from $2/3$ in the original problem (though still the better than staying).  To simulate this, we will update our game to have the player pick the first door explicitly, rather than a random door (as we did above).  We will also update the reveal step with door probabilities:"
   ]
  },
  {
   "cell_type": "code",
   "execution_count": 18,
   "id": "3d795fe4",
   "metadata": {},
   "outputs": [],
   "source": [
    "game = [cg.InitDoorsRandom(cars=1, goats=2),\n",
    "        cg.Pick(doors=[0]),\n",
    "        cg.Reveal(doors=[0, 3/4, 1/4], weighted=True),\n",
    "        cg.Switch()]"
   ]
  },
  {
   "cell_type": "markdown",
   "id": "291e7ea2",
   "metadata": {},
   "source": [
    "In the `Pick` step, we specify `doors=[0]` to pick the door at index 0.\n",
    "\n",
    "In the `Reveal` step, we use `weighted=True` to indicate the argument passed to `doors` signify probabilities of revealing each door.  In this case, we explicitly give a value for each door.  Because the `exclude_...` arguments apply, this single set of probabilities will cover all the behaviors we want.  In trials where Monty has a choice between door 2 and 3, the `3/4` and `1/4` probabilities will be applied.  Otherwise, if Monty does not have a choice, `exclude_cars=True` will effectively zero the probability on the door containing a car.  The probabilities are automatically normalized to sum to one, ensuring the single goat door available to Monty is opened.\n",
    "\n",
    "Finally, recall that we are conditioning on the fact that Monty has opened door 2 - thus, we need to filter our results to only include such trials.  `ShowResults` has a `condition` parameter which allows us to do so.  It is (by default) called on the simulation object, and expected to compute a 1D boolean array indicating which trials to include:"
   ]
  },
  {
   "cell_type": "code",
   "execution_count": 19,
   "id": "bf83a6af",
   "metadata": {},
   "outputs": [
    {
     "name": "stdout",
     "output_type": "stream",
     "text": [
      "{'trials': 2897,\n",
      " 'wins': 1665,\n",
      " 'losses': 1232,\n",
      " 'percent_wins': 57.47324818778047,\n",
      " 'percent_losses': 42.52675181221954,\n",
      " 'spoiled_games': False}\n"
     ]
    }
   ],
   "source": [
    "game = game + [cg.ShowResults(condition=lambda sim: sim.revealed[:, 1] == 1)]\n",
    "\n",
    "sim = cg.play(game, n=5000, seed=seed)"
   ]
  },
  {
   "cell_type": "markdown",
   "id": "07c86777",
   "metadata": {},
   "source": [
    "## 6. Monty Hall Has a Tell (three doors)\n",
    "\n",
    "In this final scenario, we will enlist a few more tricks to create our game simulation.  Here, Monty Hall has a \"tell\": on 95% of trials where the player has picked the door with the car, Monty will arch his eye brows 3 times.  However, he also does this eye arching behavior on 10% of trials where a goat is initially picked.\n",
    "\n",
    "Assume that you pick a door and then see Monty's tell; is switching still the best option?\n",
    "\n",
    "To model this situation, we need to simulate and keep track of trials where Monty has a tell.  This is not a feature that cargoat tracks, so we need to get a little creative.  Let's first create a boolean array which will keep track of tells.  We will start with a very small number of trials:"
   ]
  },
  {
   "cell_type": "code",
   "execution_count": 20,
   "id": "8668fa6f",
   "metadata": {},
   "outputs": [
    {
     "name": "stdout",
     "output_type": "stream",
     "text": [
      "[False False False False False False False False False False]\n"
     ]
    }
   ],
   "source": [
    "import numpy as np\n",
    "\n",
    "n = 10\n",
    "tell = np.zeros(n, dtype=bool)\n",
    "print(tell)"
   ]
  },
  {
   "cell_type": "markdown",
   "id": "dfe873aa",
   "metadata": {},
   "source": [
    "The array is initialized as all `False`, indicating no tells yet.  How do we interact with `tell` from inside of a Monty Hall simulation?  We can simply add any custom function to our game (all cargoat actions implement their behaviors through the `__call__()` method).  This toy example shows this notion:\n"
   ]
  },
  {
   "cell_type": "code",
   "execution_count": 21,
   "id": "82bed8dd",
   "metadata": {},
   "outputs": [
    {
     "name": "stdout",
     "output_type": "stream",
     "text": [
      "[]\n",
      "['a']\n"
     ]
    }
   ],
   "source": [
    "x = []\n",
    "\n",
    "game = [lambda sim : x.append('a')]\n",
    "\n",
    "print(x)\n",
    "cg.play(game, n=10)\n",
    "print(x)"
   ]
  },
  {
   "cell_type": "markdown",
   "id": "bc437266",
   "metadata": {},
   "source": [
    "In the above, the list `x` is modified because the `lambda` function gets called with `cg.play()`.  We can use very similar logic for updating `tell`.\n",
    "\n",
    "However, we need to modify `tell` in a conditional manner.  That is, the rate of Monty's tell is dependent on whether or not the player has selected a door containing the car.  To manage this, we will use [`IfElse`](https://earnestt1234.github.io/cargoat/cargoat/#cargoat.IfElse), which allows us to conditionally select actions to perform.\n",
    "\n",
    "We can construct a function to update the `tell` array with the expected amount of tells by Monty.  On trials where we have picked the car, we should observe the tell 95% of the time.  While on trials where we haven't picked the car, we should see the tell 10% of the time.  To help with this, we can make use of an esoteric feature of `IfElse`: during evaluation of the condition, this class will temporarily attach an `_ifelse_index` attribute.  This is a boolean array which marks which the condition evaluation across trials. "
   ]
  },
  {
   "cell_type": "code",
   "execution_count": 22,
   "id": "c4ad4351",
   "metadata": {},
   "outputs": [
    {
     "name": "stdout",
     "output_type": "stream",
     "text": [
      "[ True False False False False False False False  True False]\n",
      "[False  True  True  True  True  True  True  True False  True]\n"
     ]
    },
    {
     "data": {
      "text/plain": [
       "array([[0, 0, 1],\n",
       "       [1, 0, 0],\n",
       "       [0, 1, 0],\n",
       "       [1, 0, 0],\n",
       "       [1, 0, 0],\n",
       "       [1, 0, 0],\n",
       "       [0, 1, 0],\n",
       "       [0, 1, 0],\n",
       "       [0, 0, 1],\n",
       "       [0, 1, 0]])"
      ]
     },
     "execution_count": 22,
     "metadata": {},
     "output_type": "execute_result"
    }
   ],
   "source": [
    "game = [cg.InitDoorsRandom(),\n",
    "        cg.IfElse(condition=lambda sim: sim.cars[:, 2],\n",
    "                  a=lambda sim: print(sim._ifelse_index),\n",
    "                  b=lambda sim: print(sim._ifelse_index))]\n",
    "\n",
    "sim = cg.play(game, n=10, seed=seed)\n",
    "sim.cars"
   ]
  },
  {
   "cell_type": "markdown",
   "id": "95ea8553",
   "metadata": {},
   "source": [
    "In the above example, the condition we evaluated was a car being in the third door (index 2).  In the \"if\" action (`a`), we print the boolean index of trials where that condition is satisfied, while in the \"else\" condition (`b`), we print the index of trials where the condition is not met.\n",
    "\n",
    "With all this, we can finally create the simulation.  We create a function which uses the `_ifelse_index` and a random number generator to mark trials as having the tell or not.  We then subset our result to only include trials where the tell is observed."
   ]
  },
  {
   "cell_type": "code",
   "execution_count": 23,
   "id": "335a04ca",
   "metadata": {},
   "outputs": [
    {
     "data": {
      "text/plain": [
       "{'trials': 3910,\n",
       " 'wins': 3230,\n",
       " 'losses': 680,\n",
       " 'percent_wins': 82.6086956521739,\n",
       " 'percent_losses': 17.391304347826086,\n",
       " 'spoiled_games': False}"
      ]
     },
     "execution_count": 23,
     "metadata": {},
     "output_type": "execute_result"
    }
   ],
   "source": [
    "n = 10000\n",
    "tell = np.zeros(n, dtype=bool)\n",
    "\n",
    "def set_tell(positions, p=0.5):\n",
    "    # flip a coin for all trials\n",
    "    draws = np.random.binomial(n=1, p=p, size=len(positions))\n",
    "    \n",
    "    # take an and between the trial condition and the draws\n",
    "    tell_seen = positions & draws.astype(bool)\n",
    "    \n",
    "    # update `tell` accordingly\n",
    "    tell[positions] = tell_seen[positions]\n",
    "\n",
    "game = [cg.InitDoorsRandom(),\n",
    "        cg.Pick(),\n",
    "        cg.IfElse(lambda sim: np.any(sim.picked & sim.cars, axis=1),\n",
    "                  lambda sim: set_tell(sim._ifelse_index, p=0.95),\n",
    "                  lambda sim: set_tell(sim._ifelse_index, p=.1)),\n",
    "        cg.Stay()]\n",
    "\n",
    "sim = cg.play(game, n=n, seed=seed)\n",
    "sim.get_results(condition=tell)"
   ]
  },
  {
   "cell_type": "markdown",
   "id": "8afb1ee5",
   "metadata": {},
   "source": [
    "Staying performs much better here!  The tell is a strong indication that we have already selected a door with the car."
   ]
  },
  {
   "cell_type": "markdown",
   "id": "f4a12395",
   "metadata": {},
   "source": [
    "## Wrap up\n",
    "\n",
    "This post has shown how to simulate several common Monty Hall variations with cargoat.  There are many more situations that can be explored: having more than one car, picking doors with probabilities, applying different actions on different trials, etc.  Hopefully, cargoat can be a useful (or at least fun) tool for exploring these and testing your analytical conclusions!\n",
    "\n",
    "If you notice any issues with this documentation or cargoat in general, please share them on the [issues page](https://github.com/earnestt1234/cargoat/issues)."
   ]
  }
 ],
 "metadata": {
  "kernelspec": {
   "display_name": "Python 3 (ipykernel)",
   "language": "python",
   "name": "python3"
  },
  "language_info": {
   "codemirror_mode": {
    "name": "ipython",
    "version": 3
   },
   "file_extension": ".py",
   "mimetype": "text/x-python",
   "name": "python",
   "nbconvert_exporter": "python",
   "pygments_lexer": "ipython3",
   "version": "3.11.2"
  }
 },
 "nbformat": 4,
 "nbformat_minor": 5
}
